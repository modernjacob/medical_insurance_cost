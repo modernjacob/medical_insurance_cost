{
 "cells": [
  {
   "cell_type": "markdown",
   "metadata": {},
   "source": [
    "# U.S. Medical Insurance Costs"
   ]
  },
  {
   "cell_type": "markdown",
   "metadata": {},
   "source": [
    "This is an organization and analysis of insurance data. I'll be using the data so make meaningful analysis and insights into the data.\n",
    "I will first organize the dataset, then analyze the average cost of smokers insurance versus non-smokers insurance."
   ]
  },
  {
   "cell_type": "code",
   "execution_count": 1,
   "metadata": {},
   "outputs": [],
   "source": [
    "import csv"
   ]
  },
  {
   "cell_type": "markdown",
   "metadata": {},
   "source": [
    "Make empty list ready to take in the contents of the CSV file."
   ]
  },
  {
   "cell_type": "code",
   "execution_count": 2,
   "metadata": {},
   "outputs": [],
   "source": [
    "age = []\n",
    "sex = [] \n",
    "bmi =[]\n",
    "children = []\n",
    "smoker = []\n",
    "region = []\n",
    "charges = []"
   ]
  },
  {
   "cell_type": "markdown",
   "metadata": {},
   "source": [
    "Append the different data types into the appropriate lists."
   ]
  },
  {
   "cell_type": "code",
   "execution_count": 34,
   "metadata": {},
   "outputs": [],
   "source": [
    "from csv import DictReader\n",
    "\n",
    "\n",
    "with open('insurance.csv', newline='') as insurance_csv:\n",
    "    insurance_reader = DictReader(insurance_csv)\n",
    "    for row in insurance_reader:\n",
    "        age.append(int(row['age']))\n",
    "        sex.append(row['sex'])\n",
    "        bmi.append(float(row['bmi']))\n",
    "        children.append(int(row['children']))\n",
    "        smoker.append(row['smoker'])\n",
    "        region.append(row['region'])\n",
    "        charges.append(float(row['charges']))\n",
    "\n",
    "#print(age)"
   ]
  },
  {
   "cell_type": "markdown",
   "metadata": {},
   "source": [
    "Create average smoker insurance cost function to take the insurance cost of a smoker or non-smoker and calculate the average."
   ]
  },
  {
   "cell_type": "code",
   "execution_count": 42,
   "metadata": {},
   "outputs": [
    {
     "name": "stdout",
     "output_type": "stream",
     "text": [
      "Smoker Average Insurance cost: $3459.2934660843184\n",
      "Non-smoker Average Insurance Cost: $13425.630533913225\n"
     ]
    }
   ],
   "source": [
    "def calc_smoker_avg(smoker_list, insurance_list):\n",
    "    \n",
    "    #initialize local variables\n",
    "    i = 0\n",
    "    smoker_average = 0\n",
    "    non_smoker_average = 0\n",
    "\n",
    "    #for loop to add totals\n",
    "    for binary in smoker_list:\n",
    "        if binary == 'yes':\n",
    "            smoker_average += float(insurance_list[i])\n",
    "        else:\n",
    "            non_smoker_average += float(insurance_list[i])\n",
    "\n",
    "    #Calculate averages\n",
    "    smoker_average = smoker_average / len(smoker_list)\n",
    "    non_smoker_average = non_smoker_average / len(smoker_list)\n",
    "\n",
    "    #Return string\n",
    "    return(f\"Smoker Average Insurance cost: ${smoker_average}\\nNon-smoker Average Insurance Cost: ${non_smoker_average}\")\n",
    "\n",
    "#Function call\n",
    "smoker_insurance_comparison = calc_smoker_avg(smoker, charges)\n",
    "print(smoker_insurance_comparison)"
   ]
  },
  {
   "cell_type": "markdown",
   "metadata": {},
   "source": [
    "After comparing the analysis, since the Non-Smoker average insurance cost is almost 4 times the cost of a smoker (whis is somewhat unexpected). I will see the amount of data there are for smokers versus non-smokers to see if the data may be skewed."
   ]
  },
  {
   "cell_type": "code",
   "execution_count": 43,
   "metadata": {},
   "outputs": [
    {
     "name": "stdout",
     "output_type": "stream",
     "text": [
      "Smoker Count: 3564\n",
      "Non-Smoker Count: 13832\n"
     ]
    }
   ],
   "source": [
    "def smoker_count(smoker_list):\n",
    "    smoker_count = 0\n",
    "    non_smoker_count = 0\n",
    "\n",
    "    for binary in smoker_list: \n",
    "        if binary == 'yes':\n",
    "            smoker_count += 1\n",
    "        else:\n",
    "            non_smoker_count += 1\n",
    "    \n",
    "    return(f\"Smoker Count: {smoker_count}\\nNon-Smoker Count: {non_smoker_count}\")\n",
    "\n",
    "smokers_count = smoker_count(smoker)\n",
    "print(smokers_count)"
   ]
  },
  {
   "cell_type": "markdown",
   "metadata": {},
   "source": [
    "The overall count of non-smokers is greater increased by about 3.88 times. Therefor the raw average amount of the smoker versus non-smoker averages are skewed. We can calculate the ratio between the smoker vs. non-smoker difference and see if there is still difference."
   ]
  }
 ],
 "metadata": {
  "kernelspec": {
   "display_name": "Python 3.10.5 64-bit",
   "language": "python",
   "name": "python3"
  },
  "language_info": {
   "codemirror_mode": {
    "name": "ipython",
    "version": 3
   },
   "file_extension": ".py",
   "mimetype": "text/x-python",
   "name": "python",
   "nbconvert_exporter": "python",
   "pygments_lexer": "ipython3",
   "version": "3.10.5"
  },
  "vscode": {
   "interpreter": {
    "hash": "aee8b7b246df8f9039afb4144a1f6fd8d2ca17a180786b69acc140d282b71a49"
   }
  }
 },
 "nbformat": 4,
 "nbformat_minor": 4
}
